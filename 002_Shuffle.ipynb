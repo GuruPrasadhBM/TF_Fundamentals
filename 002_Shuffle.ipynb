{
  "nbformat": 4,
  "nbformat_minor": 0,
  "metadata": {
    "colab": {
      "name": "002_Shuffle.ipynb",
      "provenance": [],
      "collapsed_sections": []
    },
    "kernelspec": {
      "name": "python3",
      "display_name": "Python 3"
    },
    "language_info": {
      "name": "python"
    }
  },
  "cells": [
    {
      "cell_type": "code",
      "source": [
        "import tensorflow as tf\n",
        "print (tf.__version__)"
      ],
      "metadata": {
        "colab": {
          "base_uri": "https://localhost:8080/"
        },
        "id": "V3ew8Sb554y-",
        "outputId": "f5d0fdc4-5665-4d29-92d7-0b3b0487612b"
      },
      "execution_count": 44,
      "outputs": [
        {
          "output_type": "stream",
          "name": "stdout",
          "text": [
            "2.7.0\n"
          ]
        }
      ]
    },
    {
      "cell_type": "markdown",
      "source": [
        "### Create a Tensor"
      ],
      "metadata": {
        "id": "z-zYQEub5TxF"
      }
    },
    {
      "cell_type": "code",
      "source": [
        "non_shuffled_tensor = tf.constant([[1,2], [2,3], [3,4], [4,5], [5,6], [6,7], [7,8]])"
      ],
      "metadata": {
        "id": "SRfEwkHq5SbK"
      },
      "execution_count": 45,
      "outputs": []
    },
    {
      "cell_type": "code",
      "source": [
        "non_shuffled_tensor.ndim"
      ],
      "metadata": {
        "colab": {
          "base_uri": "https://localhost:8080/"
        },
        "id": "oed0U-Ln6L2N",
        "outputId": "85df2af1-f0a6-4e5e-9e0c-589ef28f3bfd"
      },
      "execution_count": 46,
      "outputs": [
        {
          "output_type": "execute_result",
          "data": {
            "text/plain": [
              "2"
            ]
          },
          "metadata": {},
          "execution_count": 46
        }
      ]
    },
    {
      "cell_type": "code",
      "source": [
        "non_shuffled_tensor.shape"
      ],
      "metadata": {
        "colab": {
          "base_uri": "https://localhost:8080/"
        },
        "id": "ZdHVeD4I6bk3",
        "outputId": "a9a7b894-4fef-47f2-eeb8-49b779ced18f"
      },
      "execution_count": 47,
      "outputs": [
        {
          "output_type": "execute_result",
          "data": {
            "text/plain": [
              "TensorShape([7, 2])"
            ]
          },
          "metadata": {},
          "execution_count": 47
        }
      ]
    },
    {
      "cell_type": "code",
      "source": [
        ""
      ],
      "metadata": {
        "id": "K3nQFptq7dR0"
      },
      "execution_count": 47,
      "outputs": []
    },
    {
      "cell_type": "markdown",
      "source": [
        "#### Shuffle without seed"
      ],
      "metadata": {
        "id": "Y_qGw8-P7d0G"
      }
    },
    {
      "cell_type": "code",
      "source": [
        "tf.random.shuffle(non_shuffled_tensor)"
      ],
      "metadata": {
        "colab": {
          "base_uri": "https://localhost:8080/"
        },
        "id": "8FI5KIVj6ujc",
        "outputId": "d3479f9b-2ecf-4eb8-96e9-f03f97881e61"
      },
      "execution_count": 48,
      "outputs": [
        {
          "output_type": "execute_result",
          "data": {
            "text/plain": [
              "<tf.Tensor: shape=(7, 2), dtype=int32, numpy=\n",
              "array([[3, 4],\n",
              "       [2, 3],\n",
              "       [5, 6],\n",
              "       [4, 5],\n",
              "       [7, 8],\n",
              "       [6, 7],\n",
              "       [1, 2]], dtype=int32)>"
            ]
          },
          "metadata": {},
          "execution_count": 48
        }
      ]
    },
    {
      "cell_type": "code",
      "source": [
        "tf.random.shuffle(non_shuffled_tensor)"
      ],
      "metadata": {
        "colab": {
          "base_uri": "https://localhost:8080/"
        },
        "id": "1KCwowZZ676X",
        "outputId": "345bd56b-d8c6-4b22-f978-72c65a447e5d"
      },
      "execution_count": 49,
      "outputs": [
        {
          "output_type": "execute_result",
          "data": {
            "text/plain": [
              "<tf.Tensor: shape=(7, 2), dtype=int32, numpy=\n",
              "array([[2, 3],\n",
              "       [4, 5],\n",
              "       [6, 7],\n",
              "       [7, 8],\n",
              "       [5, 6],\n",
              "       [1, 2],\n",
              "       [3, 4]], dtype=int32)>"
            ]
          },
          "metadata": {},
          "execution_count": 49
        }
      ]
    },
    {
      "cell_type": "markdown",
      "source": [
        "Set Operational Level seed"
      ],
      "metadata": {
        "id": "-KsfbsV77RnD"
      }
    },
    {
      "cell_type": "code",
      "source": [
        "tf.random.shuffle(non_shuffled_tensor, seed=5)"
      ],
      "metadata": {
        "colab": {
          "base_uri": "https://localhost:8080/"
        },
        "id": "U5QAtzJJ7TsM",
        "outputId": "e49afc77-67ff-45be-ae34-820cb52aede8"
      },
      "execution_count": 50,
      "outputs": [
        {
          "output_type": "execute_result",
          "data": {
            "text/plain": [
              "<tf.Tensor: shape=(7, 2), dtype=int32, numpy=\n",
              "array([[5, 6],\n",
              "       [1, 2],\n",
              "       [3, 4],\n",
              "       [2, 3],\n",
              "       [7, 8],\n",
              "       [6, 7],\n",
              "       [4, 5]], dtype=int32)>"
            ]
          },
          "metadata": {},
          "execution_count": 50
        }
      ]
    },
    {
      "cell_type": "code",
      "source": [
        "tf.random.shuffle(non_shuffled_tensor, seed=5)"
      ],
      "metadata": {
        "colab": {
          "base_uri": "https://localhost:8080/"
        },
        "id": "sXvBQa_67Y3E",
        "outputId": "283e311c-2594-46b9-f395-65a2a2728f03"
      },
      "execution_count": 51,
      "outputs": [
        {
          "output_type": "execute_result",
          "data": {
            "text/plain": [
              "<tf.Tensor: shape=(7, 2), dtype=int32, numpy=\n",
              "array([[7, 8],\n",
              "       [3, 4],\n",
              "       [1, 2],\n",
              "       [4, 5],\n",
              "       [6, 7],\n",
              "       [5, 6],\n",
              "       [2, 3]], dtype=int32)>"
            ]
          },
          "metadata": {},
          "execution_count": 51
        }
      ]
    },
    {
      "cell_type": "markdown",
      "source": [
        "#### Set Global Seed"
      ],
      "metadata": {
        "id": "2GPGPw-67pSN"
      }
    },
    {
      "cell_type": "code",
      "source": [
        "tf.random.set_seed(25)"
      ],
      "metadata": {
        "id": "tosOFGm17rWp"
      },
      "execution_count": 52,
      "outputs": []
    },
    {
      "cell_type": "code",
      "source": [
        "tf.random.shuffle(non_shuffled_tensor, seed=5)"
      ],
      "metadata": {
        "colab": {
          "base_uri": "https://localhost:8080/"
        },
        "id": "Z2iL_M8O7uF7",
        "outputId": "8fc351af-ce60-40c8-a08d-775889771c07"
      },
      "execution_count": 53,
      "outputs": [
        {
          "output_type": "execute_result",
          "data": {
            "text/plain": [
              "<tf.Tensor: shape=(7, 2), dtype=int32, numpy=\n",
              "array([[7, 8],\n",
              "       [1, 2],\n",
              "       [5, 6],\n",
              "       [3, 4],\n",
              "       [4, 5],\n",
              "       [6, 7],\n",
              "       [2, 3]], dtype=int32)>"
            ]
          },
          "metadata": {},
          "execution_count": 53
        }
      ]
    },
    {
      "cell_type": "code",
      "source": [
        "tf.random.set_seed(25)\n",
        "tf.random.shuffle(non_shuffled_tensor, seed=5)"
      ],
      "metadata": {
        "colab": {
          "base_uri": "https://localhost:8080/"
        },
        "id": "83oE7Lsl74Gr",
        "outputId": "2ed774a3-4fb0-484d-afe9-0e8d701a9588"
      },
      "execution_count": 54,
      "outputs": [
        {
          "output_type": "execute_result",
          "data": {
            "text/plain": [
              "<tf.Tensor: shape=(7, 2), dtype=int32, numpy=\n",
              "array([[7, 8],\n",
              "       [1, 2],\n",
              "       [5, 6],\n",
              "       [3, 4],\n",
              "       [4, 5],\n",
              "       [6, 7],\n",
              "       [2, 3]], dtype=int32)>"
            ]
          },
          "metadata": {},
          "execution_count": 54
        }
      ]
    },
    {
      "cell_type": "code",
      "source": [
        "tf.random.set_seed(25)\n",
        "tf.random.shuffle(non_shuffled_tensor, seed=5)"
      ],
      "metadata": {
        "colab": {
          "base_uri": "https://localhost:8080/"
        },
        "id": "rTvWus3375UT",
        "outputId": "880cc3cf-cdb2-4eca-eb10-37938dbb58e8"
      },
      "execution_count": 55,
      "outputs": [
        {
          "output_type": "execute_result",
          "data": {
            "text/plain": [
              "<tf.Tensor: shape=(7, 2), dtype=int32, numpy=\n",
              "array([[7, 8],\n",
              "       [1, 2],\n",
              "       [5, 6],\n",
              "       [3, 4],\n",
              "       [4, 5],\n",
              "       [6, 7],\n",
              "       [2, 3]], dtype=int32)>"
            ]
          },
          "metadata": {},
          "execution_count": 55
        }
      ]
    },
    {
      "cell_type": "code",
      "source": [
        "tf.random.shuffle(non_shuffled_tensor, seed=5)"
      ],
      "metadata": {
        "colab": {
          "base_uri": "https://localhost:8080/"
        },
        "id": "zuRHiLUm8uMF",
        "outputId": "e65d251c-e5d5-41d0-9b2e-0e52cef6da0b"
      },
      "execution_count": 56,
      "outputs": [
        {
          "output_type": "execute_result",
          "data": {
            "text/plain": [
              "<tf.Tensor: shape=(7, 2), dtype=int32, numpy=\n",
              "array([[5, 6],\n",
              "       [1, 2],\n",
              "       [3, 4],\n",
              "       [2, 3],\n",
              "       [7, 8],\n",
              "       [6, 7],\n",
              "       [4, 5]], dtype=int32)>"
            ]
          },
          "metadata": {},
          "execution_count": 56
        }
      ]
    },
    {
      "cell_type": "markdown",
      "source": [
        "### Conclusion: To get the same shuffled order, both the global and operational level seed has to be set"
      ],
      "metadata": {
        "id": "wMHkOGO581KR"
      }
    }
  ]
}